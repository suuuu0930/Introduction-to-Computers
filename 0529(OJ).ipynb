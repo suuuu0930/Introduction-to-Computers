{
  "nbformat": 4,
  "nbformat_minor": 0,
  "metadata": {
    "colab": {
      "provenance": [],
      "authorship_tag": "ABX9TyP5ujzd5WBR8u3jMLU+IEa0",
      "include_colab_link": true
    },
    "kernelspec": {
      "name": "python3",
      "display_name": "Python 3"
    },
    "language_info": {
      "name": "python"
    }
  },
  "cells": [
    {
      "cell_type": "markdown",
      "metadata": {
        "id": "view-in-github",
        "colab_type": "text"
      },
      "source": [
        "<a href=\"https://colab.research.google.com/github/suuuu0930/Introduction-to-Computers/blob/main/0529(OJ).ipynb\" target=\"_parent\"><img src=\"https://colab.research.google.com/assets/colab-badge.svg\" alt=\"Open In Colab\"/></a>"
      ]
    },
    {
      "cell_type": "code",
      "execution_count": null,
      "metadata": {
        "colab": {
          "base_uri": "https://localhost:8080/"
        },
        "id": "IXzxRfRDTeki",
        "outputId": "4e666e5f-6814-491c-bbad-da2091b8339c"
      },
      "outputs": [
        {
          "output_type": "stream",
          "name": "stdout",
          "text": [
            "2\n",
            "2 is even\n"
          ]
        }
      ],
      "source": [
        "a = int(input())\n",
        "if a < 0:\n",
        "  print(\"Input Error\")\n",
        "elif a % 2 == 0.:\n",
        "  print(a , \"is even\")\n",
        "else:\n",
        "  print(a , \"is odd\")"
      ]
    },
    {
      "cell_type": "code",
      "source": [
        "m = int(input())\n",
        "if m >= 1 and m <= 3:\n",
        "  print(m ,\"is spring\")\n",
        "elif m >= 4 and m <= 6:\n",
        "  print(m ,\"is summer\")\n",
        "elif m >= 7 and m <= 9:\n",
        "  print(m ,\"is autumn\")\n",
        "elif m >= 10 and m <= 12:\n",
        "  print(m ,\"is winter\")\n",
        "else:\n",
        "  print(\"Input Error\")"
      ],
      "metadata": {
        "colab": {
          "base_uri": "https://localhost:8080/"
        },
        "id": "tghY38w_hp6Y",
        "outputId": "d6eb3d97-7140-4ef1-e723-661c20673d62"
      },
      "execution_count": null,
      "outputs": [
        {
          "output_type": "stream",
          "name": "stdout",
          "text": [
            "14\n",
            "Input Error\n"
          ]
        }
      ]
    },
    {
      "cell_type": "code",
      "source": [
        "k = int(input())\n",
        "if k < 0:\n",
        "  print(\"Input Error\")\n",
        "elif k >= 1 and k <= 5:\n",
        "  print(240 , \"yuan\")\n",
        "elif k >= 6:\n",
        "  print(240 + (k - 5) * 40 , \"yuan\")\n",
        "else:\n",
        "  print(0 , \"yuan\")"
      ],
      "metadata": {
        "colab": {
          "base_uri": "https://localhost:8080/"
        },
        "id": "DFRqnqi64LgY",
        "outputId": "8d433a34-5034-43a4-ca15-9a113b75c24e"
      },
      "execution_count": null,
      "outputs": [
        {
          "output_type": "stream",
          "name": "stdout",
          "text": [
            "-1\n",
            "Input Error\n"
          ]
        }
      ]
    },
    {
      "cell_type": "code",
      "source": [
        "y = int(input())\n",
        "if y == 0:\n",
        "    print(float(100000))\n",
        "elif y >= 0:\n",
        "    print(float(100000 * (1 + 0.03)**y))\n",
        "else:\n",
        "    print(\"Input Error\")"
      ],
      "metadata": {
        "colab": {
          "base_uri": "https://localhost:8080/"
        },
        "id": "7_jng-Rt7cdP",
        "outputId": "bc15af37-7fc4-4843-961a-5983aa726dba"
      },
      "execution_count": null,
      "outputs": [
        {
          "output_type": "stream",
          "name": "stdout",
          "text": [
            "0\n",
            "100000.0\n"
          ]
        }
      ]
    },
    {
      "cell_type": "code",
      "source": [
        "b , c , d = map(int, input().split())\n",
        "min_num = min(b , c , d)\n",
        "print(min_num)"
      ],
      "metadata": {
        "colab": {
          "base_uri": "https://localhost:8080/"
        },
        "id": "QGzzfhZZ-PW8",
        "outputId": "55260f20-ec3e-41c0-fc25-ce091d215d1a"
      },
      "execution_count": 1,
      "outputs": [
        {
          "output_type": "stream",
          "name": "stdout",
          "text": [
            "33 38 90\n",
            "33\n"
          ]
        }
      ]
    },
    {
      "cell_type": "code",
      "source": [
        "e , f , g = map(float, input().split())\n",
        "max_num = max(e , f , g)\n",
        "print(max_num)"
      ],
      "metadata": {
        "colab": {
          "base_uri": "https://localhost:8080/"
        },
        "id": "aWiidXYYk0FE",
        "outputId": "464de52f-3300-4eb1-aa83-81b699e58845"
      },
      "execution_count": 4,
      "outputs": [
        {
          "output_type": "stream",
          "name": "stdout",
          "text": [
            "-10.3 3.999 -20.8\n",
            "3.999\n"
          ]
        }
      ]
    },
    {
      "cell_type": "code",
      "source": [
        "h = int(input())\n",
        "for i in range(1 , h + 1):\n",
        "  if h % i == 0:\n",
        "    print(i , end = ' ')"
      ],
      "metadata": {
        "colab": {
          "base_uri": "https://localhost:8080/"
        },
        "id": "8VCkZEtHmuhM",
        "outputId": "52d1a35a-690b-453c-a410-96e55b511186"
      },
      "execution_count": 10,
      "outputs": [
        {
          "output_type": "stream",
          "name": "stdout",
          "text": [
            "17\n",
            "1 17 "
          ]
        }
      ]
    },
    {
      "cell_type": "code",
      "source": [
        "j = int(input())\n",
        "k = 0\n",
        "for i in range(1 , j + 1):\n",
        "    if i % 3 == 0 or i % 7 == 0:\n",
        "        k += i\n",
        "print(k)"
      ],
      "metadata": {
        "colab": {
          "base_uri": "https://localhost:8080/"
        },
        "id": "m3Y8LLl7wRJq",
        "outputId": "55cff747-17dd-4366-888e-b6ce9d770270"
      },
      "execution_count": 46,
      "outputs": [
        {
          "output_type": "stream",
          "name": "stdout",
          "text": [
            "25\n",
            "129\n"
          ]
        }
      ]
    },
    {
      "cell_type": "code",
      "source": [
        "n = int(input())\n",
        "for i in range(1 , n + 1):\n",
        "  print(\"*\" * i)"
      ],
      "metadata": {
        "colab": {
          "base_uri": "https://localhost:8080/"
        },
        "id": "zByifpYzyXhJ",
        "outputId": "0aab759c-a618-4bd4-f59f-375bf0bdb3a9"
      },
      "execution_count": 53,
      "outputs": [
        {
          "output_type": "stream",
          "name": "stdout",
          "text": [
            "2\n",
            "*\n",
            "**\n"
          ]
        }
      ]
    },
    {
      "cell_type": "code",
      "source": [
        "p = int(input())\n",
        "for i in range(1 , p + 1):\n",
        "  for r in range(1 , i + 1):\n",
        "    print(r , end = (\"\"))\n",
        "  print()"
      ],
      "metadata": {
        "colab": {
          "base_uri": "https://localhost:8080/"
        },
        "id": "ObvPBlp5z0b-",
        "outputId": "7cb55cbe-3190-427e-b518-379b696df0de"
      },
      "execution_count": 122,
      "outputs": [
        {
          "output_type": "stream",
          "name": "stdout",
          "text": [
            "4\n",
            "1\n",
            "12\n",
            "123\n",
            "1234\n"
          ]
        }
      ]
    },
    {
      "cell_type": "code",
      "source": [
        "q , s = map(int, input().split())\n",
        "if q > s:\n",
        "  e = q\n",
        "else:\n",
        "  e = s\n",
        "for t in range(e , 0 , -1):\n",
        "  if q % t == 0 and s % t == 0:\n",
        "    print(t)\n",
        "    break"
      ],
      "metadata": {
        "colab": {
          "base_uri": "https://localhost:8080/"
        },
        "id": "183FCC7o-bur",
        "outputId": "03d11262-2261-4752-e886-af69c18ebb0c"
      },
      "execution_count": 136,
      "outputs": [
        {
          "output_type": "stream",
          "name": "stdout",
          "text": [
            "20 60\n",
            "20\n"
          ]
        }
      ]
    },
    {
      "cell_type": "code",
      "source": [
        "a , b = map(int, input().split())\n",
        "if a > b:\n",
        "  c = a\n",
        "else:\n",
        "  c = b\n",
        "d = (a + 1) * (b + 1)\n",
        "for e in range(c , d):\n",
        "  if e % a == 0 and e % b == 0:\n",
        "    print(e)\n",
        "    break"
      ],
      "metadata": {
        "colab": {
          "base_uri": "https://localhost:8080/"
        },
        "id": "fol3k1tiBgym",
        "outputId": "ea9bc895-7f5b-457b-ad9f-16ef8a9a0227"
      },
      "execution_count": 140,
      "outputs": [
        {
          "output_type": "stream",
          "name": "stdout",
          "text": [
            "4 8\n",
            "8\n"
          ]
        }
      ]
    },
    {
      "cell_type": "code",
      "source": [
        "z = input()\n",
        "if z() % 2 == 0\n",
        "print(z%2 == 0 .upper()) + (z%2 != 0 .lower())"
      ],
      "metadata": {
        "colab": {
          "base_uri": "https://localhost:8080/",
          "height": 202
        },
        "id": "Q5EkyrhYCqyW",
        "outputId": "28f79f44-d030-427e-9ebe-a78e8aed8a82"
      },
      "execution_count": 156,
      "outputs": [
        {
          "name": "stdout",
          "output_type": "stream",
          "text": [
            "asdf\n"
          ]
        },
        {
          "output_type": "error",
          "ename": "TypeError",
          "evalue": "ignored",
          "traceback": [
            "\u001b[0;31m---------------------------------------------------------------------------\u001b[0m",
            "\u001b[0;31mTypeError\u001b[0m                                 Traceback (most recent call last)",
            "\u001b[0;32m<ipython-input-156-0cee93e2c382>\u001b[0m in \u001b[0;36m<cell line: 2>\u001b[0;34m()\u001b[0m\n\u001b[1;32m      1\u001b[0m \u001b[0mz\u001b[0m \u001b[0;34m=\u001b[0m \u001b[0minput\u001b[0m\u001b[0;34m(\u001b[0m\u001b[0;34m)\u001b[0m\u001b[0;34m\u001b[0m\u001b[0;34m\u001b[0m\u001b[0m\n\u001b[0;32m----> 2\u001b[0;31m \u001b[0mprint\u001b[0m\u001b[0;34m(\u001b[0m\u001b[0mz\u001b[0m\u001b[0;34m%\u001b[0m\u001b[0;36m2\u001b[0m \u001b[0;34m==\u001b[0m \u001b[0;36m0\u001b[0m \u001b[0;34m.\u001b[0m\u001b[0mupper\u001b[0m\u001b[0;34m(\u001b[0m\u001b[0;34m)\u001b[0m\u001b[0;34m)\u001b[0m \u001b[0;34m+\u001b[0m \u001b[0;34m(\u001b[0m\u001b[0mz\u001b[0m\u001b[0;34m%\u001b[0m\u001b[0;36m2\u001b[0m \u001b[0;34m!=\u001b[0m \u001b[0;36m0\u001b[0m \u001b[0;34m.\u001b[0m\u001b[0mlower\u001b[0m\u001b[0;34m(\u001b[0m\u001b[0;34m)\u001b[0m\u001b[0;34m)\u001b[0m\u001b[0;34m\u001b[0m\u001b[0;34m\u001b[0m\u001b[0m\n\u001b[0m",
            "\u001b[0;31mTypeError\u001b[0m: not all arguments converted during string formatting"
          ]
        }
      ]
    },
    {
      "cell_type": "code",
      "source": [
        "a , b , c = map(int, input().split())\n",
        "if (a + b) > c and (a + c) > b and (b + c) > a:\n",
        "  print(\"Valid\")\n",
        "else:\n",
        "  print(\"InValid\") \n",
        "#部份給對"
      ],
      "metadata": {
        "colab": {
          "base_uri": "https://localhost:8080/"
        },
        "id": "1v1jRBYKdv_x",
        "outputId": "a04c6fe2-3e13-4e14-e588-3a6c00a995a3"
      },
      "execution_count": 163,
      "outputs": [
        {
          "output_type": "stream",
          "name": "stdout",
          "text": [
            "2 4 7\n",
            "Valid\n"
          ]
        }
      ]
    },
    {
      "cell_type": "code",
      "source": [
        "list = input().split()\n",
        "list.reverse()\n",
        "print(list , end = '\\t')\n",
        "#結果顯示方式與答案不符"
      ],
      "metadata": {
        "colab": {
          "base_uri": "https://localhost:8080/"
        },
        "id": "rBQBxxJIjwU3",
        "outputId": "b3aa5b72-458a-44b5-e689-06c4abe4360d"
      },
      "execution_count": 190,
      "outputs": [
        {
          "output_type": "stream",
          "name": "stdout",
          "text": [
            "1 2 3\n",
            "['3', '2', '1']\t"
          ]
        }
      ]
    },
    {
      "cell_type": "code",
      "source": [
        "n = input()\n",
        "h = len(n)\n",
        "print(\"*\" * h)\n",
        "print(\"total:\" , h)\n",
        "#結果錯誤(不確定是不是錯在total:後面有空格)"
      ],
      "metadata": {
        "colab": {
          "base_uri": "https://localhost:8080/"
        },
        "id": "cUrZaHx1sNSE",
        "outputId": "04797818-feae-4f24-e350-d19d3242ecfb"
      },
      "execution_count": 221,
      "outputs": [
        {
          "output_type": "stream",
          "name": "stdout",
          "text": [
            "kjkjkfv\n",
            "*******\n",
            "total: 7\n"
          ]
        }
      ]
    }
  ]
}