{
  "nbformat": 4,
  "nbformat_minor": 0,
  "metadata": {
    "colab": {
      "provenance": [],
      "authorship_tag": "ABX9TyMPJzqrpyO8aporaXCnoneN",
      "include_colab_link": true
    },
    "kernelspec": {
      "name": "python3",
      "display_name": "Python 3"
    },
    "language_info": {
      "name": "python"
    }
  },
  "cells": [
    {
      "cell_type": "markdown",
      "metadata": {
        "id": "view-in-github",
        "colab_type": "text"
      },
      "source": [
        "<a href=\"https://colab.research.google.com/github/suuuu0930/Introduction-to-Computers/blob/main/0529(OJ).ipynb\" target=\"_parent\"><img src=\"https://colab.research.google.com/assets/colab-badge.svg\" alt=\"Open In Colab\"/></a>"
      ]
    },
    {
      "cell_type": "code",
      "execution_count": 15,
      "metadata": {
        "colab": {
          "base_uri": "https://localhost:8080/"
        },
        "id": "IXzxRfRDTeki",
        "outputId": "e89c3918-7164-4066-94e9-1d0f0905ae35"
      },
      "outputs": [
        {
          "output_type": "stream",
          "name": "stdout",
          "text": [
            "88\n",
            "88 is even\n"
          ]
        }
      ],
      "source": [
        "#1 奇.偶數判斷\n",
        "a = int(input())\n",
        "if a < 0:\n",
        "  print(\"Input Error\")\n",
        "elif a % 2 == 0:\n",
        "  print(a , \"is even\")\n",
        "else:\n",
        "  print(a , \"is odd\")"
      ]
    },
    {
      "cell_type": "code",
      "source": [
        "#2 季節判斷\n",
        "m = int(input())\n",
        "if m >= 1 and m <= 3:\n",
        "  print(m ,\"is spring\")\n",
        "elif m >= 4 and m <= 6:\n",
        "  print(m ,\"is summer\")\n",
        "elif m >= 7 and m <= 9:\n",
        "  print(m ,\"is autumn\")\n",
        "elif m >= 10 and m <= 12:\n",
        "  print(m ,\"is winter\")\n",
        "else:\n",
        "  print(\"Input Error\")"
      ],
      "metadata": {
        "colab": {
          "base_uri": "https://localhost:8080/"
        },
        "id": "tghY38w_hp6Y",
        "outputId": "9cb278e7-03d6-4427-f9bf-37527bc0dcbe"
      },
      "execution_count": null,
      "outputs": [
        {
          "output_type": "stream",
          "name": "stdout",
          "text": [
            "3\n",
            "3 is spring\n"
          ]
        }
      ]
    },
    {
      "cell_type": "code",
      "source": [
        "#3 計程車費用問題\n",
        "k = int(input())\n",
        "if k < 0:\n",
        "  print(\"Input Error\")\n",
        "elif k >= 1 and k <= 5:\n",
        "  print(240 , \"yuan\")\n",
        "elif k >= 6:\n",
        "  print(240 + (k - 5) * 40 , \"yuan\")\n",
        "else:\n",
        "  print(0 , \"yuan\")"
      ],
      "metadata": {
        "colab": {
          "base_uri": "https://localhost:8080/"
        },
        "id": "DFRqnqi64LgY",
        "outputId": "8d433a34-5034-43a4-ca15-9a113b75c24e"
      },
      "execution_count": null,
      "outputs": [
        {
          "output_type": "stream",
          "name": "stdout",
          "text": [
            "-1\n",
            "Input Error\n"
          ]
        }
      ]
    },
    {
      "cell_type": "code",
      "source": [
        "#4 銀行複利問題\n",
        "y = int(input())\n",
        "if y == 0:\n",
        "    print(float(100000))\n",
        "elif y >= 0:\n",
        "    print(float(100000 * (1 + 0.03)**y))\n",
        "else:\n",
        "    print(\"Input Error\")"
      ],
      "metadata": {
        "colab": {
          "base_uri": "https://localhost:8080/"
        },
        "id": "7_jng-Rt7cdP",
        "outputId": "bc15af37-7fc4-4843-961a-5983aa726dba"
      },
      "execution_count": null,
      "outputs": [
        {
          "output_type": "stream",
          "name": "stdout",
          "text": [
            "0\n",
            "100000.0\n"
          ]
        }
      ]
    },
    {
      "cell_type": "code",
      "source": [
        "#5 找出3個數的最小值\n",
        "b , c , d = map(int, input().split())\n",
        "min_num = min(b , c , d)\n",
        "print(min_num)"
      ],
      "metadata": {
        "colab": {
          "base_uri": "https://localhost:8080/"
        },
        "id": "QGzzfhZZ-PW8",
        "outputId": "55260f20-ec3e-41c0-fc25-ce091d215d1a"
      },
      "execution_count": null,
      "outputs": [
        {
          "output_type": "stream",
          "name": "stdout",
          "text": [
            "33 38 90\n",
            "33\n"
          ]
        }
      ]
    },
    {
      "cell_type": "code",
      "source": [
        "#6 找出3個數的最大值\n",
        "e , f , g = map(float, input().split())\n",
        "max_num = max(e , f , g)\n",
        "print(max_num)"
      ],
      "metadata": {
        "colab": {
          "base_uri": "https://localhost:8080/"
        },
        "id": "aWiidXYYk0FE",
        "outputId": "464de52f-3300-4eb1-aa83-81b699e58845"
      },
      "execution_count": null,
      "outputs": [
        {
          "output_type": "stream",
          "name": "stdout",
          "text": [
            "-10.3 3.999 -20.8\n",
            "3.999\n"
          ]
        }
      ]
    },
    {
      "cell_type": "code",
      "source": [
        "#7 列出所有因數\n",
        "h = int(input())\n",
        "for i in range(1 , h + 1):\n",
        "  if h % i == 0:\n",
        "    print(i , end = ' ')"
      ],
      "metadata": {
        "colab": {
          "base_uri": "https://localhost:8080/"
        },
        "id": "8VCkZEtHmuhM",
        "outputId": "52d1a35a-690b-453c-a410-96e55b511186"
      },
      "execution_count": null,
      "outputs": [
        {
          "output_type": "stream",
          "name": "stdout",
          "text": [
            "17\n",
            "1 17 "
          ]
        }
      ]
    },
    {
      "cell_type": "code",
      "source": [
        "#8 計算3或7的倍數總和\n",
        "j = int(input())\n",
        "k = 0\n",
        "for i in range(1 , j + 1):\n",
        "    if i % 3 == 0 or i % 7 == 0:\n",
        "        k += i\n",
        "print(k)"
      ],
      "metadata": {
        "colab": {
          "base_uri": "https://localhost:8080/"
        },
        "id": "m3Y8LLl7wRJq",
        "outputId": "55cff747-17dd-4366-888e-b6ce9d770270"
      },
      "execution_count": null,
      "outputs": [
        {
          "output_type": "stream",
          "name": "stdout",
          "text": [
            "25\n",
            "129\n"
          ]
        }
      ]
    },
    {
      "cell_type": "code",
      "source": [
        "#9 用*印出靠左下的直角三角形\n",
        "n = int(input())\n",
        "for i in range(1 , n + 1):\n",
        "  print(\"*\" * i)"
      ],
      "metadata": {
        "colab": {
          "base_uri": "https://localhost:8080/"
        },
        "id": "zByifpYzyXhJ",
        "outputId": "0aab759c-a618-4bd4-f59f-375bf0bdb3a9"
      },
      "execution_count": null,
      "outputs": [
        {
          "output_type": "stream",
          "name": "stdout",
          "text": [
            "2\n",
            "*\n",
            "**\n"
          ]
        }
      ]
    },
    {
      "cell_type": "code",
      "source": [
        "#10 用連續數字印出靠左下的直角三角形\n",
        "p = int(input())\n",
        "for i in range(1 , p + 1):\n",
        "  for r in range(1 , i + 1):\n",
        "    print(r , end = (\"\"))\n",
        "  print()"
      ],
      "metadata": {
        "colab": {
          "base_uri": "https://localhost:8080/"
        },
        "id": "ObvPBlp5z0b-",
        "outputId": "7cb55cbe-3190-427e-b518-379b696df0de"
      },
      "execution_count": null,
      "outputs": [
        {
          "output_type": "stream",
          "name": "stdout",
          "text": [
            "4\n",
            "1\n",
            "12\n",
            "123\n",
            "1234\n"
          ]
        }
      ]
    },
    {
      "cell_type": "code",
      "source": [
        "#11 求兩數最大公因數\n",
        "q , s = map(int , input().split())\n",
        "if q > s:\n",
        "  e = q\n",
        "else:\n",
        "  e = s\n",
        "for t in range(e , 0 , -1):\n",
        "  if q % t == 0 and s % t == 0:\n",
        "    print(t)\n",
        "    break"
      ],
      "metadata": {
        "colab": {
          "base_uri": "https://localhost:8080/"
        },
        "id": "183FCC7o-bur",
        "outputId": "6d6344ee-2ee8-479d-bfe6-d5d872fc87c5"
      },
      "execution_count": 19,
      "outputs": [
        {
          "output_type": "stream",
          "name": "stdout",
          "text": [
            "150 120\n",
            "30\n"
          ]
        }
      ]
    },
    {
      "cell_type": "code",
      "source": [
        "#12 求兩數最小公倍數\n",
        "a , b = map(int, input().split())\n",
        "if a > b:\n",
        "  c = a\n",
        "else:\n",
        "  c = b\n",
        "d = (a + 1) * (b + 1)\n",
        "for e in range(c , d):\n",
        "  if e % a == 0 and e % b == 0:\n",
        "    print(e)\n",
        "    break"
      ],
      "metadata": {
        "colab": {
          "base_uri": "https://localhost:8080/"
        },
        "id": "fol3k1tiBgym",
        "outputId": "ea9bc895-7f5b-457b-ad9f-16ef8a9a0227"
      },
      "execution_count": null,
      "outputs": [
        {
          "output_type": "stream",
          "name": "stdout",
          "text": [
            "4 8\n",
            "8\n"
          ]
        }
      ]
    },
    {
      "cell_type": "code",
      "source": [
        "#13 大小寫變變樂\n",
        "a = input()\n",
        "for i in range(len(a)):\n",
        "  if i % 2 == 0:\n",
        "    print(a[i].upper() , end = \"\")\n",
        "  else:\n",
        "    print(a[i].lower() , end = \"\")"
      ],
      "metadata": {
        "colab": {
          "base_uri": "https://localhost:8080/"
        },
        "id": "Q5EkyrhYCqyW",
        "outputId": "37bb11fa-74f7-4a4c-c3e2-0d78cba12de0"
      },
      "execution_count": 3,
      "outputs": [
        {
          "output_type": "stream",
          "name": "stdout",
          "text": [
            "panda\n",
            "PaNdA"
          ]
        }
      ]
    },
    {
      "cell_type": "code",
      "source": [
        "#14 判斷是否構成三角形\n",
        "a , b , c = map(int, input().split())\n",
        "if (a + b) > c and (a + c) > b and (b + c) > a:\n",
        "  print(\"Valid\")\n",
        "else:\n",
        "  print(\"Invalid\")"
      ],
      "metadata": {
        "colab": {
          "base_uri": "https://localhost:8080/"
        },
        "id": "1v1jRBYKdv_x",
        "outputId": "a3cc99af-319f-44ec-879d-e5e9695cdb45"
      },
      "execution_count": null,
      "outputs": [
        {
          "output_type": "stream",
          "name": "stdout",
          "text": [
            "7 9 5\n",
            "Valid\n"
          ]
        }
      ]
    },
    {
      "cell_type": "code",
      "source": [
        "#15 將字串(list)每一項倒序印出來\n",
        "f = input().split()\n",
        "for i in f[::-1]:\n",
        "  print(i , end = \" \")"
      ],
      "metadata": {
        "colab": {
          "base_uri": "https://localhost:8080/"
        },
        "id": "rBQBxxJIjwU3",
        "outputId": "aae148f7-3e47-4121-949f-a59250c7e3bd"
      },
      "execution_count": null,
      "outputs": [
        {
          "output_type": "stream",
          "name": "stdout",
          "text": [
            "one people emo , two people wemo\n",
            "wemo people two , emo people one "
          ]
        }
      ]
    },
    {
      "cell_type": "code",
      "source": [
        "#16 製作密碼遮罩器\n",
        "a = input()\n",
        "for i in range(len(a)):\n",
        "  print(\"*\" , end = \"\")\n",
        "b = \"total:{}\"\n",
        "print()\n",
        "print(b.format(len(a)))"
      ],
      "metadata": {
        "colab": {
          "base_uri": "https://localhost:8080/"
        },
        "id": "cUrZaHx1sNSE",
        "outputId": "9940bc31-76a2-4db2-b48a-c1fac2264f0a"
      },
      "execution_count": 17,
      "outputs": [
        {
          "output_type": "stream",
          "name": "stdout",
          "text": [
            "wieut\n",
            "*****\n",
            "total:5\n"
          ]
        }
      ]
    },
    {
      "cell_type": "code",
      "source": [
        "#17 時間秒數轉換\n",
        "s = int(input())\n",
        "m , s = divmod(s , 60)\n",
        "h , m = divmod(m , 60)\n",
        "print(\"%02d:%02d:%02d\" % (h , m , s))"
      ],
      "metadata": {
        "colab": {
          "base_uri": "https://localhost:8080/"
        },
        "id": "sXGqGwjPCOXR",
        "outputId": "30079ae1-3d0b-425e-c986-afc24ffcad86"
      },
      "execution_count": null,
      "outputs": [
        {
          "output_type": "stream",
          "name": "stdout",
          "text": [
            "234\n",
            "00:03:54\n"
          ]
        }
      ]
    },
    {
      "cell_type": "code",
      "source": [
        "#18 判斷平年.閏年\n",
        "y = int(input())\n",
        "text = 'common year'\n",
        "if y % 4 == 0:\n",
        "    text = 'leap year'\n",
        "if y % 100 == 0:\n",
        "    text = 'common year'\n",
        "if y % 400 == 0:\n",
        "    text = 'leap year'\n",
        "print(f'{y} is {text}')"
      ],
      "metadata": {
        "colab": {
          "base_uri": "https://localhost:8080/"
        },
        "id": "9EPvYmRpDqcl",
        "outputId": "cc87dd30-8a12-42b6-e861-de65bf3d5159"
      },
      "execution_count": null,
      "outputs": [
        {
          "output_type": "stream",
          "name": "stdout",
          "text": [
            "2000\n",
            "2000 is leap year\n"
          ]
        }
      ]
    },
    {
      "cell_type": "code",
      "source": [
        "#19 印出乘法表\n",
        "x = int(input())\n",
        "for i in range(x , 10):\n",
        "  for j in range(1 , 10):\n",
        "    print(\"%d*%d=%d\" % (i,j,i*j),end=\" \")\n",
        "  print()"
      ],
      "metadata": {
        "colab": {
          "base_uri": "https://localhost:8080/"
        },
        "id": "3UVRtU6-F-__",
        "outputId": "cbf61a33-1e9f-4ef4-e432-21ed226841c8"
      },
      "execution_count": null,
      "outputs": [
        {
          "output_type": "stream",
          "name": "stdout",
          "text": [
            "5\n",
            "5*1=5 5*2=10 5*3=15 5*4=20 5*5=25 5*6=30 5*7=35 5*8=40 5*9=45 \n",
            "6*1=6 6*2=12 6*3=18 6*4=24 6*5=30 6*6=36 6*7=42 6*8=48 6*9=54 \n",
            "7*1=7 7*2=14 7*3=21 7*4=28 7*5=35 7*6=42 7*7=49 7*8=56 7*9=63 \n",
            "8*1=8 8*2=16 8*3=24 8*4=32 8*5=40 8*6=48 8*7=56 8*8=64 8*9=72 \n",
            "9*1=9 9*2=18 9*3=27 9*4=36 9*5=45 9*6=54 9*7=63 9*8=72 9*9=81 \n"
          ]
        }
      ]
    },
    {
      "cell_type": "code",
      "source": [
        "#20 偶數加總\n",
        "a = int(input())\n",
        "total=0\n",
        "if a > 15:\n",
        "  for x in range(15 , a + 1):\n",
        "    if(x % 2 == 0):\n",
        "      total += x\n",
        "  print(total)\n",
        "else:\n",
        "  for x in range(a , 16):\n",
        "    if(x % 2 ==0):\n",
        "      total += x\n",
        "  print(total)"
      ],
      "metadata": {
        "colab": {
          "base_uri": "https://localhost:8080/"
        },
        "id": "sBd7V5iyIYpp",
        "outputId": "d7cf3ab8-026f-483c-86b2-fcd121f8a1a5"
      },
      "execution_count": null,
      "outputs": [
        {
          "output_type": "stream",
          "name": "stdout",
          "text": [
            "99\n",
            "2394\n"
          ]
        }
      ]
    }
  ]
}