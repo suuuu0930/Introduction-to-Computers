{
  "nbformat": 4,
  "nbformat_minor": 0,
  "metadata": {
    "colab": {
      "provenance": [],
      "authorship_tag": "ABX9TyOCPc2Lt6A9t3xRjSC3JLT1",
      "include_colab_link": true
    },
    "kernelspec": {
      "name": "python3",
      "display_name": "Python 3"
    },
    "language_info": {
      "name": "python"
    }
  },
  "cells": [
    {
      "cell_type": "markdown",
      "metadata": {
        "id": "view-in-github",
        "colab_type": "text"
      },
      "source": [
        "<a href=\"https://colab.research.google.com/github/suuuu0930/Introduction-to-Computers/blob/main/0529(OJ).ipynb\" target=\"_parent\"><img src=\"https://colab.research.google.com/assets/colab-badge.svg\" alt=\"Open In Colab\"/></a>"
      ]
    },
    {
      "cell_type": "code",
      "execution_count": null,
      "metadata": {
        "colab": {
          "base_uri": "https://localhost:8080/"
        },
        "id": "IXzxRfRDTeki",
        "outputId": "4e666e5f-6814-491c-bbad-da2091b8339c"
      },
      "outputs": [
        {
          "output_type": "stream",
          "name": "stdout",
          "text": [
            "2\n",
            "2 is even\n"
          ]
        }
      ],
      "source": [
        "a = int(input())\n",
        "if a < 0:\n",
        "  print(\"Input Error\")\n",
        "elif a % 2 == 0.:\n",
        "  print(a , \"is even\")\n",
        "else:\n",
        "  print(a , \"is odd\")"
      ]
    },
    {
      "cell_type": "code",
      "source": [
        "m = int(input())\n",
        "if m >= 1 and m <= 3:\n",
        "  print(m ,\"is spring\")\n",
        "elif m >= 4 and m <= 6:\n",
        "  print(m ,\"is summer\")\n",
        "elif m >= 7 and m <= 9:\n",
        "  print(m ,\"is autumn\")\n",
        "elif m >= 10 and m <= 12:\n",
        "  print(m ,\"is winter\")\n",
        "else:\n",
        "  print(\"Input Error\")"
      ],
      "metadata": {
        "colab": {
          "base_uri": "https://localhost:8080/"
        },
        "id": "tghY38w_hp6Y",
        "outputId": "9cb278e7-03d6-4427-f9bf-37527bc0dcbe"
      },
      "execution_count": null,
      "outputs": [
        {
          "output_type": "stream",
          "name": "stdout",
          "text": [
            "3\n",
            "3 is spring\n"
          ]
        }
      ]
    },
    {
      "cell_type": "code",
      "source": [
        "k = int(input())\n",
        "if k < 0:\n",
        "  print(\"Input Error\")\n",
        "elif k >= 1 and k <= 5:\n",
        "  print(240 , \"yuan\")\n",
        "elif k >= 6:\n",
        "  print(240 + (k - 5) * 40 , \"yuan\")\n",
        "else:\n",
        "  print(0 , \"yuan\")"
      ],
      "metadata": {
        "colab": {
          "base_uri": "https://localhost:8080/"
        },
        "id": "DFRqnqi64LgY",
        "outputId": "8d433a34-5034-43a4-ca15-9a113b75c24e"
      },
      "execution_count": null,
      "outputs": [
        {
          "output_type": "stream",
          "name": "stdout",
          "text": [
            "-1\n",
            "Input Error\n"
          ]
        }
      ]
    },
    {
      "cell_type": "code",
      "source": [
        "y = int(input())\n",
        "if y == 0:\n",
        "    print(float(100000))\n",
        "elif y >= 0:\n",
        "    print(float(100000 * (1 + 0.03)**y))\n",
        "else:\n",
        "    print(\"Input Error\")"
      ],
      "metadata": {
        "colab": {
          "base_uri": "https://localhost:8080/"
        },
        "id": "7_jng-Rt7cdP",
        "outputId": "bc15af37-7fc4-4843-961a-5983aa726dba"
      },
      "execution_count": null,
      "outputs": [
        {
          "output_type": "stream",
          "name": "stdout",
          "text": [
            "0\n",
            "100000.0\n"
          ]
        }
      ]
    },
    {
      "cell_type": "code",
      "source": [
        "b , c , d = map(int, input().split())\n",
        "min_num = min(b , c , d)\n",
        "print(min_num)"
      ],
      "metadata": {
        "colab": {
          "base_uri": "https://localhost:8080/"
        },
        "id": "QGzzfhZZ-PW8",
        "outputId": "55260f20-ec3e-41c0-fc25-ce091d215d1a"
      },
      "execution_count": null,
      "outputs": [
        {
          "output_type": "stream",
          "name": "stdout",
          "text": [
            "33 38 90\n",
            "33\n"
          ]
        }
      ]
    },
    {
      "cell_type": "code",
      "source": [
        "e , f , g = map(float, input().split())\n",
        "max_num = max(e , f , g)\n",
        "print(max_num)"
      ],
      "metadata": {
        "colab": {
          "base_uri": "https://localhost:8080/"
        },
        "id": "aWiidXYYk0FE",
        "outputId": "464de52f-3300-4eb1-aa83-81b699e58845"
      },
      "execution_count": null,
      "outputs": [
        {
          "output_type": "stream",
          "name": "stdout",
          "text": [
            "-10.3 3.999 -20.8\n",
            "3.999\n"
          ]
        }
      ]
    },
    {
      "cell_type": "code",
      "source": [
        "h = int(input())\n",
        "for i in range(1 , h + 1):\n",
        "  if h % i == 0:\n",
        "    print(i , end = ' ')"
      ],
      "metadata": {
        "colab": {
          "base_uri": "https://localhost:8080/"
        },
        "id": "8VCkZEtHmuhM",
        "outputId": "52d1a35a-690b-453c-a410-96e55b511186"
      },
      "execution_count": null,
      "outputs": [
        {
          "output_type": "stream",
          "name": "stdout",
          "text": [
            "17\n",
            "1 17 "
          ]
        }
      ]
    },
    {
      "cell_type": "code",
      "source": [
        "j = int(input())\n",
        "k = 0\n",
        "for i in range(1 , j + 1):\n",
        "    if i % 3 == 0 or i % 7 == 0:\n",
        "        k += i\n",
        "print(k)"
      ],
      "metadata": {
        "colab": {
          "base_uri": "https://localhost:8080/"
        },
        "id": "m3Y8LLl7wRJq",
        "outputId": "55cff747-17dd-4366-888e-b6ce9d770270"
      },
      "execution_count": null,
      "outputs": [
        {
          "output_type": "stream",
          "name": "stdout",
          "text": [
            "25\n",
            "129\n"
          ]
        }
      ]
    },
    {
      "cell_type": "code",
      "source": [
        "n = int(input())\n",
        "for i in range(1 , n + 1):\n",
        "  print(\"*\" * i)"
      ],
      "metadata": {
        "colab": {
          "base_uri": "https://localhost:8080/"
        },
        "id": "zByifpYzyXhJ",
        "outputId": "0aab759c-a618-4bd4-f59f-375bf0bdb3a9"
      },
      "execution_count": null,
      "outputs": [
        {
          "output_type": "stream",
          "name": "stdout",
          "text": [
            "2\n",
            "*\n",
            "**\n"
          ]
        }
      ]
    },
    {
      "cell_type": "code",
      "source": [
        "p = int(input())\n",
        "for i in range(1 , p + 1):\n",
        "  for r in range(1 , i + 1):\n",
        "    print(r , end = (\"\"))\n",
        "  print()"
      ],
      "metadata": {
        "colab": {
          "base_uri": "https://localhost:8080/"
        },
        "id": "ObvPBlp5z0b-",
        "outputId": "7cb55cbe-3190-427e-b518-379b696df0de"
      },
      "execution_count": null,
      "outputs": [
        {
          "output_type": "stream",
          "name": "stdout",
          "text": [
            "4\n",
            "1\n",
            "12\n",
            "123\n",
            "1234\n"
          ]
        }
      ]
    },
    {
      "cell_type": "code",
      "source": [
        "q , s = map(int, input().split())\n",
        "if q > s:\n",
        "  e = q\n",
        "else:\n",
        "  e = s\n",
        "for t in range(e , 0 , -1):\n",
        "  if q % t == 0 and s % t == 0:\n",
        "    print(t)\n",
        "    break"
      ],
      "metadata": {
        "colab": {
          "base_uri": "https://localhost:8080/"
        },
        "id": "183FCC7o-bur",
        "outputId": "03d11262-2261-4752-e886-af69c18ebb0c"
      },
      "execution_count": null,
      "outputs": [
        {
          "output_type": "stream",
          "name": "stdout",
          "text": [
            "20 60\n",
            "20\n"
          ]
        }
      ]
    },
    {
      "cell_type": "code",
      "source": [
        "a , b = map(int, input().split())\n",
        "if a > b:\n",
        "  c = a\n",
        "else:\n",
        "  c = b\n",
        "d = (a + 1) * (b + 1)\n",
        "for e in range(c , d):\n",
        "  if e % a == 0 and e % b == 0:\n",
        "    print(e)\n",
        "    break"
      ],
      "metadata": {
        "colab": {
          "base_uri": "https://localhost:8080/"
        },
        "id": "fol3k1tiBgym",
        "outputId": "ea9bc895-7f5b-457b-ad9f-16ef8a9a0227"
      },
      "execution_count": null,
      "outputs": [
        {
          "output_type": "stream",
          "name": "stdout",
          "text": [
            "4 8\n",
            "8\n"
          ]
        }
      ]
    },
    {
      "cell_type": "code",
      "source": [
        "#13\n",
        "number1 = \"\"\n",
        "for i in range(97,123):\n",
        "    number1+=str(i)+' '\n",
        "print('%s' % number1)"
      ],
      "metadata": {
        "colab": {
          "base_uri": "https://localhost:8080/"
        },
        "id": "Q5EkyrhYCqyW",
        "outputId": "4352d67a-8cd8-4cb6-f464-0d4069bb059e"
      },
      "execution_count": null,
      "outputs": [
        {
          "output_type": "stream",
          "name": "stdout",
          "text": [
            "97 98 99 100 101 102 103 104 105 106 107 108 109 110 111 112 113 114 115 116 117 118 119 120 121 122 \n"
          ]
        }
      ]
    },
    {
      "cell_type": "code",
      "source": [
        "a , b , c = map(int, input().split())\n",
        "if (a + b) > c and (a + c) > b and (b + c) > a:\n",
        "  print(\"Valid\")\n",
        "else:\n",
        "  print(\"Invalid\")"
      ],
      "metadata": {
        "colab": {
          "base_uri": "https://localhost:8080/"
        },
        "id": "1v1jRBYKdv_x",
        "outputId": "a3cc99af-319f-44ec-879d-e5e9695cdb45"
      },
      "execution_count": null,
      "outputs": [
        {
          "output_type": "stream",
          "name": "stdout",
          "text": [
            "7 9 5\n",
            "Valid\n"
          ]
        }
      ]
    },
    {
      "cell_type": "code",
      "source": [
        "f = input().split()\n",
        "for i in f[::-1]:\n",
        "  print(i , end = \" \")"
      ],
      "metadata": {
        "colab": {
          "base_uri": "https://localhost:8080/"
        },
        "id": "rBQBxxJIjwU3",
        "outputId": "aae148f7-3e47-4121-949f-a59250c7e3bd"
      },
      "execution_count": null,
      "outputs": [
        {
          "output_type": "stream",
          "name": "stdout",
          "text": [
            "one people emo , two people wemo\n",
            "wemo people two , emo people one "
          ]
        }
      ]
    },
    {
      "cell_type": "code",
      "source": [
        "n = input()\n",
        "h = len(n)\n",
        "for i in range(1 , h + 1):\n",
        "  print(\"*\",end=\"\")\n",
        "print(\"\\ntotal:\",h)\n",
        "#print(\"total:\",h)\n",
        "#結果錯誤(不確定是不是錯在total:後面有空格)"
      ],
      "metadata": {
        "colab": {
          "base_uri": "https://localhost:8080/"
        },
        "id": "cUrZaHx1sNSE",
        "outputId": "49f7f74b-4598-465b-a290-c4e9b4a48e01"
      },
      "execution_count": null,
      "outputs": [
        {
          "output_type": "stream",
          "name": "stdout",
          "text": [
            "gigigvjvk\n",
            "*********\n",
            "total: 9\n"
          ]
        }
      ]
    },
    {
      "cell_type": "code",
      "source": [
        "password = input(\"請輸入密碼：\")\n",
        "\n",
        "# 將每個字符轉換為星號並逐行輸出\n",
        "masked_password = \"*\" * len(password)\n",
        "for char in masked_password:\n",
        "    print(char , end = '')\n",
        "\n",
        "print()\n",
        "\n",
        "# 輸出密碼的長度\n",
        "print(\"total:\", len(password))"
      ],
      "metadata": {
        "colab": {
          "base_uri": "https://localhost:8080/"
        },
        "id": "8psiDBZdIgSC",
        "outputId": "36b96909-b6e8-41f9-ac5f-c50a5f893e53"
      },
      "execution_count": null,
      "outputs": [
        {
          "output_type": "stream",
          "name": "stdout",
          "text": [
            "請輸入密碼：ajgfj\n",
            "*****\n",
            "total: 5\n"
          ]
        }
      ]
    },
    {
      "cell_type": "code",
      "source": [
        "s = int(input())\n",
        "m , s = divmod(s , 60)\n",
        "h , m = divmod(m , 60)\n",
        "print(\"%02d:%02d:%02d\" % (h , m , s))"
      ],
      "metadata": {
        "colab": {
          "base_uri": "https://localhost:8080/"
        },
        "id": "sXGqGwjPCOXR",
        "outputId": "30079ae1-3d0b-425e-c986-afc24ffcad86"
      },
      "execution_count": null,
      "outputs": [
        {
          "output_type": "stream",
          "name": "stdout",
          "text": [
            "234\n",
            "00:03:54\n"
          ]
        }
      ]
    },
    {
      "cell_type": "code",
      "source": [
        "y = int(input())\n",
        "text = 'common year'\n",
        "if y % 4 == 0:\n",
        "    text = 'leap year'\n",
        "if y % 100 == 0:\n",
        "    text = 'common year'\n",
        "if y % 400 == 0:\n",
        "    text = 'leap year'\n",
        "print(f'{y} is {text}')"
      ],
      "metadata": {
        "colab": {
          "base_uri": "https://localhost:8080/"
        },
        "id": "9EPvYmRpDqcl",
        "outputId": "cc87dd30-8a12-42b6-e861-de65bf3d5159"
      },
      "execution_count": null,
      "outputs": [
        {
          "output_type": "stream",
          "name": "stdout",
          "text": [
            "2000\n",
            "2000 is leap year\n"
          ]
        }
      ]
    },
    {
      "cell_type": "code",
      "source": [
        "x = int(input())\n",
        "for i in range(x , 10):\n",
        "  for j in range(1 , 10):\n",
        "    print(\"%d*%d=%d\" % (i,j,i*j),end=\" \")\n",
        "  print()"
      ],
      "metadata": {
        "colab": {
          "base_uri": "https://localhost:8080/"
        },
        "id": "3UVRtU6-F-__",
        "outputId": "cbf61a33-1e9f-4ef4-e432-21ed226841c8"
      },
      "execution_count": null,
      "outputs": [
        {
          "output_type": "stream",
          "name": "stdout",
          "text": [
            "5\n",
            "5*1=5 5*2=10 5*3=15 5*4=20 5*5=25 5*6=30 5*7=35 5*8=40 5*9=45 \n",
            "6*1=6 6*2=12 6*3=18 6*4=24 6*5=30 6*6=36 6*7=42 6*8=48 6*9=54 \n",
            "7*1=7 7*2=14 7*3=21 7*4=28 7*5=35 7*6=42 7*7=49 7*8=56 7*9=63 \n",
            "8*1=8 8*2=16 8*3=24 8*4=32 8*5=40 8*6=48 8*7=56 8*8=64 8*9=72 \n",
            "9*1=9 9*2=18 9*3=27 9*4=36 9*5=45 9*6=54 9*7=63 9*8=72 9*9=81 \n"
          ]
        }
      ]
    },
    {
      "cell_type": "code",
      "source": [
        "a = int(input())\n",
        "total=0\n",
        "if a > 15:\n",
        "  for x in range(15 , a + 1):\n",
        "    if(x % 2 == 0):\n",
        "      total += x\n",
        "  print(total)\n",
        "else:\n",
        "  for x in range(a , 16):\n",
        "    if(x % 2 ==0):\n",
        "      total += x\n",
        "  print(total)"
      ],
      "metadata": {
        "colab": {
          "base_uri": "https://localhost:8080/"
        },
        "id": "sBd7V5iyIYpp",
        "outputId": "d7cf3ab8-026f-483c-86b2-fcd121f8a1a5"
      },
      "execution_count": null,
      "outputs": [
        {
          "output_type": "stream",
          "name": "stdout",
          "text": [
            "99\n",
            "2394\n"
          ]
        }
      ]
    }
  ]
}