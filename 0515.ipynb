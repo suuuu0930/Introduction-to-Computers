{
  "nbformat": 4,
  "nbformat_minor": 0,
  "metadata": {
    "colab": {
      "provenance": [],
      "authorship_tag": "ABX9TyNz7p9HJ93bNmJL0x4OZk9y",
      "include_colab_link": true
    },
    "kernelspec": {
      "name": "python3",
      "display_name": "Python 3"
    },
    "language_info": {
      "name": "python"
    }
  },
  "cells": [
    {
      "cell_type": "markdown",
      "metadata": {
        "id": "view-in-github",
        "colab_type": "text"
      },
      "source": [
        "<a href=\"https://colab.research.google.com/github/suuuu0930/Introduction-to-Computers/blob/main/0515.ipynb\" target=\"_parent\"><img src=\"https://colab.research.google.com/assets/colab-badge.svg\" alt=\"Open In Colab\"/></a>"
      ]
    },
    {
      "cell_type": "code",
      "execution_count": 1,
      "metadata": {
        "colab": {
          "base_uri": "https://localhost:8080/"
        },
        "id": "3BzLbdHUMuFF",
        "outputId": "871652cd-0327-4c06-a4c1-7d66ca0bee2e"
      },
      "outputs": [
        {
          "output_type": "stream",
          "name": "stdout",
          "text": [
            "0515\n"
          ]
        }
      ],
      "source": [
        "print(\"0515\")"
      ]
    },
    {
      "cell_type": "code",
      "source": [
        "rain = input(\"今天會下雨嗎?\")\n",
        "if(rain == \"Y\" or rain == \"y\"):\n",
        "  print(\"出門記得帶傘!\")\n",
        "elif(rain == \"N\" or rain == \"n\"):\n",
        "  print(\"出門記得帶傘!\")\n",
        "else:\n",
        "  print(\"請重新輸入\")"
      ],
      "metadata": {
        "colab": {
          "base_uri": "https://localhost:8080/"
        },
        "id": "ySSrp4sYQulJ",
        "outputId": "b292a4b0-7cdb-48a7-c3ea-da6e2c4d3712"
      },
      "execution_count": 4,
      "outputs": [
        {
          "output_type": "stream",
          "name": "stdout",
          "text": [
            "今天會下雨嗎?b\n",
            "請重新輸入\n"
          ]
        }
      ]
    },
    {
      "cell_type": "code",
      "source": [
        "t = float(input(\"請輸入體溫:\"))\n",
        "if t >= 37.5:\n",
        "  print(\"體溫過高!\")\n",
        "elif t >= 37:\n",
        "  print(\"體溫略高!\")\n",
        "elif t >= 34:\n",
        "  print(\"體溫正常!\")\n",
        "else:\n",
        "  print(\"體溫異常，請重新量測!\")"
      ],
      "metadata": {
        "colab": {
          "base_uri": "https://localhost:8080/"
        },
        "id": "xSO6ylhhTZ4x",
        "outputId": "977e40fa-b00e-4c40-a3d4-530fdfb948ca"
      },
      "execution_count": 19,
      "outputs": [
        {
          "output_type": "stream",
          "name": "stdout",
          "text": [
            "請輸入體溫:35\n",
            "體溫正常!\n"
          ]
        }
      ]
    },
    {
      "cell_type": "code",
      "source": [
        "score = int(input(\"請輸入成績:\"))\n",
        "if score >= 90:\n",
        "    print(\"A\")\n",
        "elif score >= 80:\n",
        "    print(\"B\")\n",
        "elif score >= 70:\n",
        "    print(\"C\")\n",
        "elif score >= 60:\n",
        "    print(\"D\")\n",
        "else:\n",
        "    print(\"E\")"
      ],
      "metadata": {
        "colab": {
          "base_uri": "https://localhost:8080/"
        },
        "id": "hwbX3tuxXU7B",
        "outputId": "4004e5ea-a1bd-4eba-e1d8-045509d41365"
      },
      "execution_count": 21,
      "outputs": [
        {
          "output_type": "stream",
          "name": "stdout",
          "text": [
            "請輸入成績:44\n",
            "E\n"
          ]
        }
      ]
    },
    {
      "cell_type": "code",
      "source": [
        "m = int(input(\"請輸入月份:\"))\n",
        "if m >= 3 and m <= 5:\n",
        "  print(m ,\"月是春天!\")\n",
        "elif m >= 6 and m <= 8:\n",
        "  print(m ,\"月是夏天!\")\n",
        "elif m >= 9 and m <= 11:\n",
        "  print(m ,\"月是秋天!\")\n",
        "elif m == 12 or ( m <= 2 and m >= 1):\n",
        "  print(m ,\"月是冬天!\")\n",
        "else:\n",
        "  print(\"月份不在範圍內!\")"
      ],
      "metadata": {
        "colab": {
          "base_uri": "https://localhost:8080/"
        },
        "id": "lm9k4ouVZc4p",
        "outputId": "d595d34a-0b0e-4889-f719-44c8f8953e6d"
      },
      "execution_count": 39,
      "outputs": [
        {
          "output_type": "stream",
          "name": "stdout",
          "text": [
            "請輸入月份:0\n",
            "月份不在範圍內!\n"
          ]
        }
      ]
    },
    {
      "cell_type": "code",
      "source": [
        "r = int(input(\"請輸入今年收入淨額:\"))\n",
        "if r >= 2000000:\n",
        "    print(\"付稅金額:\", r * 0.3 ,\"元\")\n",
        "elif r >= 1000000:\n",
        "    print(\"付稅金額:\", r * 0.21 ,\"元\")\n",
        "elif r >= 600000:\n",
        "    print(\"付稅金額:\", r * 0.13 ,\"元\")\n",
        "elif r >= 300000:\n",
        "    print(\"付稅金額:\", r * 0.06 ,\"元\")\n",
        "else:\n",
        "    print(\"付稅金額:\", 0 ,\"元\")"
      ],
      "metadata": {
        "colab": {
          "base_uri": "https://localhost:8080/"
        },
        "id": "ewnM1a44bhqK",
        "outputId": "5bdabb7b-965e-4054-99e9-69cc0d4a1449"
      },
      "execution_count": 32,
      "outputs": [
        {
          "output_type": "stream",
          "name": "stdout",
          "text": [
            "請輸入今年收入淨額:600000\n",
            "付稅金額: 78000.0 元\n"
          ]
        }
      ]
    }
  ]
}